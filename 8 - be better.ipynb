{
 "cells": [
  {
   "cell_type": "code",
   "execution_count": 1,
   "metadata": {},
   "outputs": [],
   "source": [
    "import requests\n",
    "import pandas\n",
    "from bs4 import BeautifulSoup"
   ]
  },
  {
   "cell_type": "code",
   "execution_count": 2,
   "metadata": {},
   "outputs": [],
   "source": [
    "# input\n",
    "account = '106010'\n",
    "password = 'G122117609'\n",
    "character = 'cloud' # options: 'cloud', 'self'\n",
    "ticket_type = 'all' # options: 'advanced', 'assigned', 'processing', 'finished', 'special', 'all'\n",
    "add_file_url = True\n",
    "join_ticket_detail = True"
   ]
  },
  {
   "cell_type": "code",
   "execution_count": 3,
   "metadata": {},
   "outputs": [],
   "source": [
    "if character == 'self':\n",
    "    character_id = account\n",
    "elif character == 'cloud':\n",
    "    character_id = '20'"
   ]
  },
  {
   "cell_type": "code",
   "execution_count": 4,
   "metadata": {},
   "outputs": [],
   "source": [
    "def login(account, password):\n",
    "    url = 'http://202.3.168.17:8080/login_check.jsp'\n",
    "    data = {\n",
    "        'sess_id': account,\n",
    "        'sess_password': password,\n",
    "        'dfForm': 'login.jsp',\n",
    "    }\n",
    "    session = requests.session()\n",
    "    response = session.post(url=url, data=data)\n",
    "    return session"
   ]
  },
  {
   "cell_type": "code",
   "execution_count": 5,
   "metadata": {},
   "outputs": [],
   "source": [
    "session = login(account=account, password=password)"
   ]
  },
  {
   "cell_type": "code",
   "execution_count": 6,
   "metadata": {},
   "outputs": [],
   "source": [
    "def request_dashboard(session, character_id):\n",
    "    url = 'http://202.3.168.17:8080/Disp/DashBoard_Terminal.jsp?action=search'\n",
    "    data = {\n",
    "        'character': character_id,\n",
    "    }\n",
    "    response = session.post(url=url, data=data)\n",
    "    return response"
   ]
  },
  {
   "cell_type": "code",
   "execution_count": 7,
   "metadata": {},
   "outputs": [],
   "source": [
    "response_dashboard = request_dashboard(session=session, character_id=character_id)"
   ]
  },
  {
   "cell_type": "code",
   "execution_count": 8,
   "metadata": {},
   "outputs": [],
   "source": [
    "def produce_ticket_tables(html):\n",
    "    dataframes = pandas.read_html(html)\n",
    "    # take the part we want to build a dictionary\n",
    "    ticket_tables = {\n",
    "        'advanced': dataframes[2],\n",
    "        'assigned': dataframes[3],\n",
    "        'processing': dataframes[4],\n",
    "        'finished': dataframes[5],\n",
    "        'special': dataframes[6],\n",
    "    }\n",
    "    return ticket_tables"
   ]
  },
  {
   "cell_type": "code",
   "execution_count": 9,
   "metadata": {},
   "outputs": [],
   "source": [
    "ticket_tables = produce_ticket_tables(html=response_dashboard.text)"
   ]
  },
  {
   "cell_type": "code",
   "execution_count": 10,
   "metadata": {},
   "outputs": [],
   "source": [
    "def use_first_row_as_title(dataframe):\n",
    "    title = dataframe.iloc[0]\n",
    "    dataframe = dataframe[1:]\n",
    "    dataframe.columns = title\n",
    "    return dataframe"
   ]
  },
  {
   "cell_type": "code",
   "execution_count": 11,
   "metadata": {},
   "outputs": [],
   "source": [
    "def clean_data(dataframe):\n",
    "    for index, row in dataframe.iterrows():\n",
    "        row['單號'] = row['單號'].replace(' (Delay)', '')\n",
    "    return dataframe"
   ]
  },
  {
   "cell_type": "code",
   "execution_count": 12,
   "metadata": {},
   "outputs": [],
   "source": [
    "ticket_tables = {key:clean_data(use_first_row_as_title(value)) for key, value in ticket_tables.items()}"
   ]
  },
  {
   "cell_type": "code",
   "execution_count": 13,
   "metadata": {},
   "outputs": [],
   "source": [
    "def add_column_file_url(dataframe, session):\n",
    "    file_urls = []\n",
    "    for index, row in dataframe.iterrows():\n",
    "        file_url = ''\n",
    "        try:\n",
    "            ticket_number = row['單號']\n",
    "            url = 'http://202.3.168.17:8080/Disp/DashBoard_Terminal_Detail.jsp'\n",
    "            data = {\n",
    "                'seq_no': ticket_number,\n",
    "            }\n",
    "            response = session.post(url=url, data=data)\n",
    "            soup = BeautifulSoup(response.text, 'lxml')\n",
    "            tags = soup.select('body > table > tr:nth-child(2) > td > fieldset > table > tr:nth-child(1) > td > ol > li > input[type=button]:nth-child(1)')\n",
    "            file_url = tags[0]['onclick'].split(',')[0].split('\"')[1]\n",
    "        except:\n",
    "            pass\n",
    "        file_urls.append(file_url)\n",
    "    dataframe = dataframe.assign(建置單檔案=file_urls)\n",
    "    return dataframe"
   ]
  },
  {
   "cell_type": "code",
   "execution_count": 14,
   "metadata": {},
   "outputs": [],
   "source": [
    "if add_file_url and ticket_type != 'all':\n",
    "    ticket_tables[ticket_type] = add_column_file_url(ticket_tables[ticket_type], session=session)\n",
    "elif add_file_url and ticket_type == 'all':\n",
    "    ticket_tables = {key:add_column_file_url(value, session=session) for key, value in ticket_tables.items()}\n",
    "else:\n",
    "    pass"
   ]
  },
  {
   "cell_type": "code",
   "execution_count": 15,
   "metadata": {},
   "outputs": [],
   "source": [
    "def produce_ticket_detail_table(session, character_id, dataframe, ticket_type):\n",
    "    ticket_detail_dataframes = []\n",
    "    for index, row in dataframe.iterrows():\n",
    "        try:\n",
    "            ticket_number = row['單號']\n",
    "            url = 'http://202.3.168.17:8080/Disp/retriveDetail.jsp'\n",
    "            method = 'get_Disp_DetailCons'\n",
    "            if ticket_type == 'finished':\n",
    "                method = 'get_Disp_DetailCons_Finish'\n",
    "            data = {\n",
    "                'method': method,\n",
    "                'Disp_Cons_Seq': character_id,\n",
    "                'Disp_Grp_Seq': character_id,\n",
    "                'Disp_Seq': ticket_number,\n",
    "            }\n",
    "            detail_response = session.post(url=url, data=data)\n",
    "            ticket_detail_dataframe = pandas.read_html(detail_response.text)[0]\n",
    "            ticket_detail_dataframe = use_first_row_as_title(ticket_detail_dataframe)\n",
    "            ticket_detail_dataframe = ticket_detail_dataframe.assign(單號=ticket_number)\n",
    "            ticket_detail_dataframes.append(ticket_detail_dataframe)\n",
    "        except:\n",
    "            pass\n",
    "    if ticket_detail_dataframes:\n",
    "        ticket_detail_table = pandas.concat(ticket_detail_dataframes)\n",
    "    else:\n",
    "        ticket_detail_table = None\n",
    "    return ticket_detail_table"
   ]
  },
  {
   "cell_type": "code",
   "execution_count": 16,
   "metadata": {},
   "outputs": [],
   "source": [
    "if join_ticket_detail and ticket_type != 'all':\n",
    "    ticket_detail_tables[ticket_type] = produce_ticket_detail_table(session=session, character_id=character_id, dataframe=ticket_tables[ticket_type], ticket_type=ticket_type)\n",
    "elif join_ticket_detail and ticket_type == 'all':\n",
    "    ticket_detail_tables = {key:produce_ticket_detail_table(session=session, character_id=character_id, dataframe=value, ticket_type=key) for key, value in ticket_tables.items()}\n",
    "else:\n",
    "    pass"
   ]
  },
  {
   "cell_type": "code",
   "execution_count": 17,
   "metadata": {},
   "outputs": [],
   "source": [
    "if ticket_type != 'all':\n",
    "    left = ticket_tables[ticket_type]\n",
    "    right = ticket_detail_tables[ticket_type]\n",
    "    result[ticket_type] = pandas.merge(left, right, on='單號', how='outer', suffixes=('', '-細項'))\n",
    "elif ticket_type == 'all':\n",
    "    result = {}\n",
    "    for key, value in ticket_tables.items():\n",
    "        try:\n",
    "            left = value\n",
    "            right = ticket_detail_tables[key]\n",
    "            result[key] = pandas.merge(left, right, on='單號', how='outer', suffixes=('', '-細項'))\n",
    "        except:\n",
    "            pass"
   ]
  }
 ],
 "metadata": {
  "kernelspec": {
   "display_name": "Python 3",
   "language": "python",
   "name": "python3"
  },
  "language_info": {
   "codemirror_mode": {
    "name": "ipython",
    "version": 3
   },
   "file_extension": ".py",
   "mimetype": "text/x-python",
   "name": "python",
   "nbconvert_exporter": "python",
   "pygments_lexer": "ipython3",
   "version": "3.7.7"
  }
 },
 "nbformat": 4,
 "nbformat_minor": 4
}
