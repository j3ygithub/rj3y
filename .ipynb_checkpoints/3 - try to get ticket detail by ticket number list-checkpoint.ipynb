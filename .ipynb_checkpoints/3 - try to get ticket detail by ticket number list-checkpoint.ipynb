{
 "cells": [
  {
   "cell_type": "code",
   "execution_count": 1,
   "metadata": {},
   "outputs": [],
   "source": [
    "import requests\n",
    "from bs4 import BeautifulSoup\n",
    "import pandas"
   ]
  },
  {
   "cell_type": "code",
   "execution_count": 2,
   "metadata": {},
   "outputs": [],
   "source": [
    "account = '106010'\n",
    "password = 'G122117609'\n",
    "session = requests.session()"
   ]
  },
  {
   "cell_type": "code",
   "execution_count": 3,
   "metadata": {},
   "outputs": [],
   "source": [
    "def get_session_login(account, password, session):\n",
    "    login_url = 'http://202.3.168.17:8080/login_check.jsp'\n",
    "    login_data = {\n",
    "        'sess_id': account,\n",
    "        'sess_password': password,\n",
    "        'dfURL': '',\n",
    "        'dfFrame_no': 2,\n",
    "        'dfAction': '',\n",
    "        'dfId': '',\n",
    "        'dfForm': 'login.jsp'\n",
    "    }\n",
    "    session.post(url=login_url, data=login_data)\n",
    "    return session"
   ]
  },
  {
   "cell_type": "code",
   "execution_count": 4,
   "metadata": {},
   "outputs": [],
   "source": [
    "session = get_session_login(account=account, password=password, session=session)"
   ]
  },
  {
   "cell_type": "code",
   "execution_count": 5,
   "metadata": {},
   "outputs": [],
   "source": [
    "def get_df_handling_ticket(session):\n",
    "    dashboard_terminal_url = 'http://202.3.168.17:8080/Disp/DashBoard_Terminal.jsp'\n",
    "    response_dashboard_terminal = session.get(url=dashboard_terminal_url)\n",
    "    df_read_html_response_dashboard_terminal_text = pandas.read_html(response_dashboard_terminal.text)\n",
    "    df_handling_ticket = df_read_html_response_dashboard_terminal_text[4]\n",
    "    return df_handling_ticket"
   ]
  },
  {
   "cell_type": "code",
   "execution_count": 6,
   "metadata": {},
   "outputs": [],
   "source": [
    "df_handling_ticket = get_df_handling_ticket(session)"
   ]
  },
  {
   "cell_type": "code",
   "execution_count": 7,
   "metadata": {},
   "outputs": [],
   "source": [
    "def let_the_first_row_be_column_title(dataframe):\n",
    "    new_dataframe = dataframe[1:]\n",
    "    new_dataframe.columns = dataframe.iloc[0]\n",
    "    return new_dataframe"
   ]
  },
  {
   "cell_type": "code",
   "execution_count": 8,
   "metadata": {},
   "outputs": [],
   "source": [
    "df_handling_ticket_with_title = let_the_first_row_be_column_title(df_handling_ticket)"
   ]
  },
  {
   "cell_type": "code",
   "execution_count": 9,
   "metadata": {},
   "outputs": [],
   "source": [
    "handling_ticket_number_list = list(df_handling_ticket_with_title['單號'])"
   ]
  },
  {
   "cell_type": "code",
   "execution_count": 47,
   "metadata": {},
   "outputs": [],
   "source": [
    "def get_df_ticket_detail(session, account, ticket_number):\n",
    "    ticket_detail_url = 'http://202.3.168.17:8080/Disp/retriveDetail.jsp'\n",
    "    ticket_detail_data = {\n",
    "        'method': 'get_Disp_DetailCons',\n",
    "        'Disp_Cons_Seq': account,\n",
    "        'Disp_Seq': ticket_number,\n",
    "    }\n",
    "    response_ticket_detail = session.post(url=ticket_detail_url, data=ticket_detail_data)\n",
    "    df_read_html_response_ticket_detail_text = pandas.read_html(response_ticket_detail.text)\n",
    "    df_ticket_detail = df_read_html_response_ticket_detail_text[0]\n",
    "    return df_ticket_detail"
   ]
  },
  {
   "cell_type": "code",
   "execution_count": 53,
   "metadata": {},
   "outputs": [],
   "source": [
    "df_list = []\n",
    "for ticket_number in handling_ticket_number_list:\n",
    "    df_ticket_detail = get_df_ticket_detail(session=session, account=account, ticket_number=ticket_number)\n",
    "    df_ticket_detail_with_title = let_the_first_row_be_column_title(df_ticket_detail)\n",
    "    df_ticket_detail_with_title_with_ticket_number = df_ticket_detail_with_title.assign(單號=ticket_number)\n",
    "    df_list += [df_ticket_detail_with_title_with_ticket_number]"
   ]
  },
  {
   "cell_type": "code",
   "execution_count": 56,
   "metadata": {},
   "outputs": [],
   "source": [
    "df_ticket_detail_total = pandas.concat(df_list)"
   ]
  },
  {
   "cell_type": "code",
   "execution_count": 58,
   "metadata": {},
   "outputs": [],
   "source": [
    "df_left = df_ticket_detail_total\n",
    "df_right = df_handling_ticket_with_title.drop(columns=['流程'])\n",
    "result = pandas.merge(df_left, df_right, on='單號', how='left')"
   ]
  },
  {
   "cell_type": "code",
   "execution_count": 62,
   "metadata": {},
   "outputs": [],
   "source": [
    "text_file = open('practice.html', \"w\")\n",
    "text_file.write(result.to_html())\n",
    "text_file.close()"
   ]
  }
 ],
 "metadata": {
  "kernelspec": {
   "display_name": "Python 3",
   "language": "python",
   "name": "python3"
  },
  "language_info": {
   "codemirror_mode": {
    "name": "ipython",
    "version": 3
   },
   "file_extension": ".py",
   "mimetype": "text/x-python",
   "name": "python",
   "nbconvert_exporter": "python",
   "pygments_lexer": "ipython3",
   "version": "3.7.7"
  }
 },
 "nbformat": 4,
 "nbformat_minor": 4
}
