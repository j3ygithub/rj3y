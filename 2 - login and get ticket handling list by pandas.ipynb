{
 "cells": [
  {
   "cell_type": "code",
   "execution_count": 1,
   "metadata": {},
   "outputs": [],
   "source": [
    "import requests\n",
    "from bs4 import BeautifulSoup\n",
    "import pandas"
   ]
  },
  {
   "cell_type": "code",
   "execution_count": 2,
   "metadata": {},
   "outputs": [],
   "source": [
    "account = '106010'\n",
    "password = 'G122117609'"
   ]
  },
  {
   "cell_type": "code",
   "execution_count": 3,
   "metadata": {},
   "outputs": [
    {
     "data": {
      "text/plain": [
       "<Response [200]>"
      ]
     },
     "execution_count": 3,
     "metadata": {},
     "output_type": "execute_result"
    }
   ],
   "source": [
    "session = requests.session()\n",
    "data = {\n",
    "    'sess_id': account,\n",
    "    'sess_password': password,\n",
    "    'dfURL': '',\n",
    "    'dfFrame_no': 2,\n",
    "    'dfAction': '',\n",
    "    'dfId': '',\n",
    "    'dfForm': 'login.jsp'\n",
    "}\n",
    "session.post(url='http://202.3.168.17:8080/login_check.jsp', data=data)"
   ]
  },
  {
   "cell_type": "code",
   "execution_count": 4,
   "metadata": {},
   "outputs": [],
   "source": [
    "response_dashboard_terminal = session.get(url='http://202.3.168.17:8080/Disp/DashBoard_Terminal.jsp')\n",
    "df_read_html_response_dashboard_terminal_text = pandas.read_html(response_dashboard_terminal.text)"
   ]
  },
  {
   "cell_type": "code",
   "execution_count": 5,
   "metadata": {},
   "outputs": [],
   "source": [
    "df_ticket_handling = df_read_html_response_dashboard_terminal_text[4]"
   ]
  },
  {
   "cell_type": "code",
   "execution_count": 8,
   "metadata": {},
   "outputs": [],
   "source": [
    "def let_the_first_row_be_column_title(dataframe):\n",
    "    new_dataframe = dataframe[1:]\n",
    "    new_dataframe.columns = dataframe.iloc[0]\n",
    "    return new_dataframe"
   ]
  },
  {
   "cell_type": "code",
   "execution_count": 9,
   "metadata": {},
   "outputs": [],
   "source": [
    "new_df_ticket_handling = let_the_first_row_be_column_title(df_ticket_handling)"
   ]
  },
  {
   "cell_type": "code",
   "execution_count": 13,
   "metadata": {},
   "outputs": [
    {
     "data": {
      "text/html": [
       "<div>\n",
       "<style scoped>\n",
       "    .dataframe tbody tr th:only-of-type {\n",
       "        vertical-align: middle;\n",
       "    }\n",
       "\n",
       "    .dataframe tbody tr th {\n",
       "        vertical-align: top;\n",
       "    }\n",
       "\n",
       "    .dataframe thead th {\n",
       "        text-align: right;\n",
       "    }\n",
       "</style>\n",
       "<table border=\"1\" class=\"dataframe\">\n",
       "  <thead>\n",
       "    <tr style=\"text-align: right;\">\n",
       "      <th></th>\n",
       "      <th>單號</th>\n",
       "      <th>客戶名稱</th>\n",
       "      <th>協銷客戶名稱</th>\n",
       "      <th>類別</th>\n",
       "      <th>專案</th>\n",
       "      <th>流程</th>\n",
       "    </tr>\n",
       "  </thead>\n",
       "  <tbody>\n",
       "    <tr>\n",
       "      <th>1</th>\n",
       "      <td>202004210873</td>\n",
       "      <td>傑思網擎有限公司</td>\n",
       "      <td>NaN</td>\n",
       "      <td>異動/測試單</td>\n",
       "      <td>李瑞賢</td>\n",
       "      <td>處理中</td>\n",
       "    </tr>\n",
       "    <tr>\n",
       "      <th>2</th>\n",
       "      <td>202004210872</td>\n",
       "      <td>鈊象電子股份有限公司</td>\n",
       "      <td>NaN</td>\n",
       "      <td>新增/測試單</td>\n",
       "      <td>李瑞賢</td>\n",
       "      <td>處理中</td>\n",
       "    </tr>\n",
       "    <tr>\n",
       "      <th>3</th>\n",
       "      <td>202004210871</td>\n",
       "      <td>OLYMPIC STAR LIMITED</td>\n",
       "      <td>NaN</td>\n",
       "      <td>新增/測試單</td>\n",
       "      <td>李瑞賢</td>\n",
       "      <td>處理中</td>\n",
       "    </tr>\n",
       "    <tr>\n",
       "      <th>4</th>\n",
       "      <td>202004170860</td>\n",
       "      <td>發現資訊有限公司</td>\n",
       "      <td>NaN</td>\n",
       "      <td>新增/測試單</td>\n",
       "      <td>李瑞賢</td>\n",
       "      <td>處理中</td>\n",
       "    </tr>\n",
       "    <tr>\n",
       "      <th>5</th>\n",
       "      <td>202004150826</td>\n",
       "      <td>TY solution</td>\n",
       "      <td>NaN</td>\n",
       "      <td>新增/測試單</td>\n",
       "      <td>李瑞賢</td>\n",
       "      <td>處理中</td>\n",
       "    </tr>\n",
       "    <tr>\n",
       "      <th>6</th>\n",
       "      <td>202004070759</td>\n",
       "      <td>Pragmatic Software S</td>\n",
       "      <td>NaN</td>\n",
       "      <td>退租/一般單</td>\n",
       "      <td>李忠憲</td>\n",
       "      <td>處理中</td>\n",
       "    </tr>\n",
       "    <tr>\n",
       "      <th>7</th>\n",
       "      <td>202003300699</td>\n",
       "      <td>財團法人國家實驗研究院國家高速網路與計算</td>\n",
       "      <td>NaN</td>\n",
       "      <td>新增/測試單</td>\n",
       "      <td>李忠憲</td>\n",
       "      <td>處理中</td>\n",
       "    </tr>\n",
       "    <tr>\n",
       "      <th>8</th>\n",
       "      <td>202003300695</td>\n",
       "      <td>是方電訊股份有限公司</td>\n",
       "      <td>NaN</td>\n",
       "      <td>新增/內工單</td>\n",
       "      <td>龔哲</td>\n",
       "      <td>處理中</td>\n",
       "    </tr>\n",
       "    <tr>\n",
       "      <th>9</th>\n",
       "      <td>202003110519</td>\n",
       "      <td>海博資訊股份有限公司</td>\n",
       "      <td>NaN</td>\n",
       "      <td>新增/測試單</td>\n",
       "      <td>李瑞賢</td>\n",
       "      <td>處理中</td>\n",
       "    </tr>\n",
       "    <tr>\n",
       "      <th>10</th>\n",
       "      <td>202003040451</td>\n",
       "      <td>華電聯網股份有限公司</td>\n",
       "      <td>NaN</td>\n",
       "      <td>新增/一般單</td>\n",
       "      <td>李瑞賢</td>\n",
       "      <td>處理中</td>\n",
       "    </tr>\n",
       "  </tbody>\n",
       "</table>\n",
       "</div>"
      ],
      "text/plain": [
       "0             單號                  客戶名稱 協銷客戶名稱      類別   專案   流程\n",
       "1   202004210873              傑思網擎有限公司    NaN  異動/測試單  李瑞賢  處理中\n",
       "2   202004210872            鈊象電子股份有限公司    NaN  新增/測試單  李瑞賢  處理中\n",
       "3   202004210871  OLYMPIC STAR LIMITED    NaN  新增/測試單  李瑞賢  處理中\n",
       "4   202004170860              發現資訊有限公司    NaN  新增/測試單  李瑞賢  處理中\n",
       "5   202004150826           TY solution    NaN  新增/測試單  李瑞賢  處理中\n",
       "6   202004070759  Pragmatic Software S    NaN  退租/一般單  李忠憲  處理中\n",
       "7   202003300699  財團法人國家實驗研究院國家高速網路與計算    NaN  新增/測試單  李忠憲  處理中\n",
       "8   202003300695            是方電訊股份有限公司    NaN  新增/內工單   龔哲  處理中\n",
       "9   202003110519            海博資訊股份有限公司    NaN  新增/測試單  李瑞賢  處理中\n",
       "10  202003040451            華電聯網股份有限公司    NaN  新增/一般單  李瑞賢  處理中"
      ]
     },
     "execution_count": 13,
     "metadata": {},
     "output_type": "execute_result"
    }
   ],
   "source": [
    "ticket_handling_number_list = "
   ]
  },
  {
   "cell_type": "code",
   "execution_count": 55,
   "metadata": {},
   "outputs": [],
   "source": [
    "request_ticket_detail_url_base = 'http://202.3.168.17:8080/Disp/retriveDetail.jsp'"
   ]
  },
  {
   "cell_type": "code",
   "execution_count": 56,
   "metadata": {},
   "outputs": [],
   "source": [
    "request_ticket_detail_parameter = {\n",
    "    'method': 'get_Disp_DetailCons',\n",
    "    'Disp_Cons_Seq': account,\n",
    "    'Disp_Seq': '202004210873',\n",
    "}"
   ]
  },
  {
   "cell_type": "code",
   "execution_count": 57,
   "metadata": {},
   "outputs": [],
   "source": [
    "response_ticket_detail = session.post(url=request_ticket_detail_url_base, data=request_ticket_detail_parameter)"
   ]
  },
  {
   "cell_type": "code",
   "execution_count": 58,
   "metadata": {
    "scrolled": false
   },
   "outputs": [
    {
     "data": {
      "text/plain": [
       "\"\\r\\n\\r\\n\\r\\n\\t\\r\\n\\r\\n \\r\\n\\r\\n\\r\\n\\r\\n\\r\\n<div class='CSSTableGenerator'><table width='100%' align='left' border='1'><tr><td width='15%'>工務名稱</td><td width='21%'>裝機地址</td><td width='10%'>工務同仁</td><td width='12%'>轉派時間</td><td width='10%'>流程</td><td width='5%'>工期</td><td width='12%'>工務起訖日</td><td>待竣時間</td></tr><tr><td><a href='#?seq_no=202004210873&Disp_Detail_Seq=1&Disp_Assign_Detail_Seq=47285' class='winOpen'>VM服務</a></td><td></td><td>雲端-林敬智</td><td>2020-04-21 11:30:40</td><td><a href='#?seq_no=202004210873' class='winOpenFlow'>處理中</td><td>3</td><td>標:2020/04/22~2020/04/24<br>預:2020/06/17~2020/06/17</td><td>&nbsp;</td></tr><tr><td><a href='#?seq_no=202004210873&Disp_Detail_Seq=2&Disp_Assign_Detail_Seq=47286' class='winOpen'>VM服務-頻寬</a></td><td></td><td>雲端-林敬智</td><td>2020-04-21 11:30:45</td><td><a href='#?seq_no=202004210873' class='winOpenFlow'>處理中</td><td>9</td><td>標:2020/04/22~2020/05/05<br>預:2020/06/17~2020/06/17</td><td>&nbsp;</td></tr></table></div>\\r\\n\""
      ]
     },
     "execution_count": 58,
     "metadata": {},
     "output_type": "execute_result"
    }
   ],
   "source": [
    "response_ticket_detail.text"
   ]
  },
  {
   "cell_type": "code",
   "execution_count": 90,
   "metadata": {},
   "outputs": [],
   "source": [
    "data = pandas.read_html(response_ticket_detail.text)[0]"
   ]
  },
  {
   "cell_type": "code",
   "execution_count": 91,
   "metadata": {},
   "outputs": [],
   "source": [
    "data1 = pandas.read_html(response_ticket_detail.text, skiprows=1)[0]"
   ]
  },
  {
   "cell_type": "code",
   "execution_count": 92,
   "metadata": {},
   "outputs": [
    {
     "data": {
      "text/html": [
       "<div>\n",
       "<style scoped>\n",
       "    .dataframe tbody tr th:only-of-type {\n",
       "        vertical-align: middle;\n",
       "    }\n",
       "\n",
       "    .dataframe tbody tr th {\n",
       "        vertical-align: top;\n",
       "    }\n",
       "\n",
       "    .dataframe thead th {\n",
       "        text-align: right;\n",
       "    }\n",
       "</style>\n",
       "<table border=\"1\" class=\"dataframe\">\n",
       "  <thead>\n",
       "    <tr style=\"text-align: right;\">\n",
       "      <th></th>\n",
       "      <th>0</th>\n",
       "      <th>1</th>\n",
       "      <th>2</th>\n",
       "      <th>3</th>\n",
       "      <th>4</th>\n",
       "      <th>5</th>\n",
       "      <th>6</th>\n",
       "      <th>7</th>\n",
       "    </tr>\n",
       "  </thead>\n",
       "  <tbody>\n",
       "    <tr>\n",
       "      <th>0</th>\n",
       "      <td>VM服務</td>\n",
       "      <td>NaN</td>\n",
       "      <td>雲端-林敬智</td>\n",
       "      <td>2020-04-21 11:30:40</td>\n",
       "      <td>處理中</td>\n",
       "      <td>3</td>\n",
       "      <td>標:2020/04/22~2020/04/24預:2020/06/17~2020/06/17</td>\n",
       "      <td>NaN</td>\n",
       "    </tr>\n",
       "    <tr>\n",
       "      <th>1</th>\n",
       "      <td>VM服務-頻寬</td>\n",
       "      <td>NaN</td>\n",
       "      <td>雲端-林敬智</td>\n",
       "      <td>2020-04-21 11:30:45</td>\n",
       "      <td>處理中</td>\n",
       "      <td>9</td>\n",
       "      <td>標:2020/04/22~2020/05/05預:2020/06/17~2020/06/17</td>\n",
       "      <td>NaN</td>\n",
       "    </tr>\n",
       "  </tbody>\n",
       "</table>\n",
       "</div>"
      ],
      "text/plain": [
       "         0   1       2                    3    4  5  \\\n",
       "0     VM服務 NaN  雲端-林敬智  2020-04-21 11:30:40  處理中  3   \n",
       "1  VM服務-頻寬 NaN  雲端-林敬智  2020-04-21 11:30:45  處理中  9   \n",
       "\n",
       "                                                6   7  \n",
       "0  標:2020/04/22~2020/04/24預:2020/06/17~2020/06/17 NaN  \n",
       "1  標:2020/04/22~2020/05/05預:2020/06/17~2020/06/17 NaN  "
      ]
     },
     "execution_count": 92,
     "metadata": {},
     "output_type": "execute_result"
    }
   ],
   "source": [
    "data1"
   ]
  },
  {
   "cell_type": "code",
   "execution_count": 88,
   "metadata": {
    "scrolled": true
   },
   "outputs": [],
   "source": []
  },
  {
   "cell_type": "code",
   "execution_count": 89,
   "metadata": {},
   "outputs": [
    {
     "data": {
      "text/html": [
       "<div>\n",
       "<style scoped>\n",
       "    .dataframe tbody tr th:only-of-type {\n",
       "        vertical-align: middle;\n",
       "    }\n",
       "\n",
       "    .dataframe tbody tr th {\n",
       "        vertical-align: top;\n",
       "    }\n",
       "\n",
       "    .dataframe thead th {\n",
       "        text-align: right;\n",
       "    }\n",
       "</style>\n",
       "<table border=\"1\" class=\"dataframe\">\n",
       "  <thead>\n",
       "    <tr style=\"text-align: right;\">\n",
       "      <th></th>\n",
       "      <th>0</th>\n",
       "      <th>1</th>\n",
       "      <th>2</th>\n",
       "      <th>3</th>\n",
       "      <th>4</th>\n",
       "      <th>5</th>\n",
       "    </tr>\n",
       "  </thead>\n",
       "  <tbody>\n",
       "    <tr>\n",
       "      <th>0</th>\n",
       "      <td>單號</td>\n",
       "      <td>客戶名稱</td>\n",
       "      <td>協銷客戶名稱</td>\n",
       "      <td>類別</td>\n",
       "      <td>專案</td>\n",
       "      <td>流程</td>\n",
       "    </tr>\n",
       "    <tr>\n",
       "      <th>1</th>\n",
       "      <td>202004210873</td>\n",
       "      <td>傑思網擎有限公司</td>\n",
       "      <td>NaN</td>\n",
       "      <td>異動/測試單</td>\n",
       "      <td>李瑞賢</td>\n",
       "      <td>處理中</td>\n",
       "    </tr>\n",
       "    <tr>\n",
       "      <th>2</th>\n",
       "      <td>202004210872</td>\n",
       "      <td>鈊象電子股份有限公司</td>\n",
       "      <td>NaN</td>\n",
       "      <td>新增/測試單</td>\n",
       "      <td>李瑞賢</td>\n",
       "      <td>處理中</td>\n",
       "    </tr>\n",
       "    <tr>\n",
       "      <th>3</th>\n",
       "      <td>202004210871</td>\n",
       "      <td>OLYMPIC STAR LIMITED</td>\n",
       "      <td>NaN</td>\n",
       "      <td>新增/測試單</td>\n",
       "      <td>李瑞賢</td>\n",
       "      <td>處理中</td>\n",
       "    </tr>\n",
       "    <tr>\n",
       "      <th>4</th>\n",
       "      <td>202004170860</td>\n",
       "      <td>發現資訊有限公司</td>\n",
       "      <td>NaN</td>\n",
       "      <td>新增/測試單</td>\n",
       "      <td>李瑞賢</td>\n",
       "      <td>處理中</td>\n",
       "    </tr>\n",
       "    <tr>\n",
       "      <th>5</th>\n",
       "      <td>202004150826</td>\n",
       "      <td>TY solution</td>\n",
       "      <td>NaN</td>\n",
       "      <td>新增/測試單</td>\n",
       "      <td>李瑞賢</td>\n",
       "      <td>處理中</td>\n",
       "    </tr>\n",
       "    <tr>\n",
       "      <th>6</th>\n",
       "      <td>202004070759</td>\n",
       "      <td>Pragmatic Software S</td>\n",
       "      <td>NaN</td>\n",
       "      <td>退租/一般單</td>\n",
       "      <td>李忠憲</td>\n",
       "      <td>處理中</td>\n",
       "    </tr>\n",
       "    <tr>\n",
       "      <th>7</th>\n",
       "      <td>202003300699</td>\n",
       "      <td>財團法人國家實驗研究院國家高速網路與計算</td>\n",
       "      <td>NaN</td>\n",
       "      <td>新增/測試單</td>\n",
       "      <td>李忠憲</td>\n",
       "      <td>處理中</td>\n",
       "    </tr>\n",
       "    <tr>\n",
       "      <th>8</th>\n",
       "      <td>202003300695</td>\n",
       "      <td>是方電訊股份有限公司</td>\n",
       "      <td>NaN</td>\n",
       "      <td>新增/內工單</td>\n",
       "      <td>龔哲</td>\n",
       "      <td>處理中</td>\n",
       "    </tr>\n",
       "    <tr>\n",
       "      <th>9</th>\n",
       "      <td>202003110519</td>\n",
       "      <td>海博資訊股份有限公司</td>\n",
       "      <td>NaN</td>\n",
       "      <td>新增/測試單</td>\n",
       "      <td>李瑞賢</td>\n",
       "      <td>處理中</td>\n",
       "    </tr>\n",
       "    <tr>\n",
       "      <th>10</th>\n",
       "      <td>202003040451</td>\n",
       "      <td>華電聯網股份有限公司</td>\n",
       "      <td>NaN</td>\n",
       "      <td>新增/一般單</td>\n",
       "      <td>李瑞賢</td>\n",
       "      <td>處理中</td>\n",
       "    </tr>\n",
       "  </tbody>\n",
       "</table>\n",
       "</div>"
      ],
      "text/plain": [
       "               0                     1       2       3    4    5\n",
       "0             單號                  客戶名稱  協銷客戶名稱      類別   專案   流程\n",
       "1   202004210873              傑思網擎有限公司     NaN  異動/測試單  李瑞賢  處理中\n",
       "2   202004210872            鈊象電子股份有限公司     NaN  新增/測試單  李瑞賢  處理中\n",
       "3   202004210871  OLYMPIC STAR LIMITED     NaN  新增/測試單  李瑞賢  處理中\n",
       "4   202004170860              發現資訊有限公司     NaN  新增/測試單  李瑞賢  處理中\n",
       "5   202004150826           TY solution     NaN  新增/測試單  李瑞賢  處理中\n",
       "6   202004070759  Pragmatic Software S     NaN  退租/一般單  李忠憲  處理中\n",
       "7   202003300699  財團法人國家實驗研究院國家高速網路與計算     NaN  新增/測試單  李忠憲  處理中\n",
       "8   202003300695            是方電訊股份有限公司     NaN  新增/內工單   龔哲  處理中\n",
       "9   202003110519            海博資訊股份有限公司     NaN  新增/測試單  李瑞賢  處理中\n",
       "10  202003040451            華電聯網股份有限公司     NaN  新增/一般單  李瑞賢  處理中"
      ]
     },
     "execution_count": 89,
     "metadata": {},
     "output_type": "execute_result"
    }
   ],
   "source": [
    "data2"
   ]
  },
  {
   "cell_type": "code",
   "execution_count": null,
   "metadata": {},
   "outputs": [],
   "source": []
  },
  {
   "cell_type": "code",
   "execution_count": null,
   "metadata": {},
   "outputs": [],
   "source": []
  },
  {
   "cell_type": "code",
   "execution_count": null,
   "metadata": {},
   "outputs": [],
   "source": []
  },
  {
   "cell_type": "code",
   "execution_count": null,
   "metadata": {},
   "outputs": [],
   "source": []
  },
  {
   "cell_type": "code",
   "execution_count": null,
   "metadata": {},
   "outputs": [],
   "source": []
  },
  {
   "cell_type": "code",
   "execution_count": null,
   "metadata": {},
   "outputs": [],
   "source": []
  },
  {
   "cell_type": "code",
   "execution_count": 17,
   "metadata": {},
   "outputs": [],
   "source": [
    "soup_ticket_detail = BeautifulSoup(response_ticket_detail.text, 'html.parser')"
   ]
  },
  {
   "cell_type": "code",
   "execution_count": 10,
   "metadata": {},
   "outputs": [],
   "source": [
    "soup_ticket_table_title = soup_ticket_detail.select('div > table > tr:nth-child(1) > td')"
   ]
  },
  {
   "cell_type": "code",
   "execution_count": 11,
   "metadata": {},
   "outputs": [],
   "source": [
    "ticket_table_title_list = [ s.text for s in soup_ticket_table_title ]"
   ]
  },
  {
   "cell_type": "code",
   "execution_count": 12,
   "metadata": {},
   "outputs": [],
   "source": [
    "n = 2\n",
    "ticket_table_content_list = []\n",
    "while soup_ticket_detail.select(f'div > table > tr:nth-child({n}) > td'):\n",
    "    soup_ticket_table_content = soup_ticket_detail.select(f'div > table > tr:nth-child({n}) > td')\n",
    "    ticket_table_row_list = [ s.text for s in soup_ticket_table_content ]\n",
    "    ticket_table_content_list += [ticket_table_row_list]\n",
    "    n = n + 1"
   ]
  },
  {
   "cell_type": "code",
   "execution_count": 13,
   "metadata": {},
   "outputs": [
    {
     "data": {
      "text/plain": [
       "[['VM服務',\n",
       "  '',\n",
       "  '雲端-林敬智',\n",
       "  '2020-04-21 11:30:40',\n",
       "  '處理中',\n",
       "  '3',\n",
       "  '標:2020/04/22~2020/04/24預:2020/06/17~2020/06/17',\n",
       "  '\\xa0'],\n",
       " ['VM服務-頻寬',\n",
       "  '',\n",
       "  '雲端-林敬智',\n",
       "  '2020-04-21 11:30:45',\n",
       "  '處理中',\n",
       "  '9',\n",
       "  '標:2020/04/22~2020/05/05預:2020/06/17~2020/06/17',\n",
       "  '\\xa0']]"
      ]
     },
     "execution_count": 13,
     "metadata": {},
     "output_type": "execute_result"
    }
   ],
   "source": [
    "ticket_table_content_list"
   ]
  },
  {
   "cell_type": "code",
   "execution_count": null,
   "metadata": {},
   "outputs": [],
   "source": []
  }
 ],
 "metadata": {
  "kernelspec": {
   "display_name": "Python 3",
   "language": "python",
   "name": "python3"
  },
  "language_info": {
   "codemirror_mode": {
    "name": "ipython",
    "version": 3
   },
   "file_extension": ".py",
   "mimetype": "text/x-python",
   "name": "python",
   "nbconvert_exporter": "python",
   "pygments_lexer": "ipython3",
   "version": "3.7.7"
  }
 },
 "nbformat": 4,
 "nbformat_minor": 4
}
